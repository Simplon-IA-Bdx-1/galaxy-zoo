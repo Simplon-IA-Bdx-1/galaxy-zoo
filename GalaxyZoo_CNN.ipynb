{
 "cells": [
  {
   "cell_type": "code",
   "execution_count": 1,
   "metadata": {},
   "outputs": [
    {
     "name": "stderr",
     "output_type": "stream",
     "text": [
      "/home/malaika/anaconda3/envs/computervision/lib/python3.7/site-packages/tensorflow/python/framework/dtypes.py:526: FutureWarning: Passing (type, 1) or '1type' as a synonym of type is deprecated; in a future version of numpy, it will be understood as (type, (1,)) / '(1,)type'.\n",
      "  _np_qint8 = np.dtype([(\"qint8\", np.int8, 1)])\n",
      "/home/malaika/anaconda3/envs/computervision/lib/python3.7/site-packages/tensorflow/python/framework/dtypes.py:527: FutureWarning: Passing (type, 1) or '1type' as a synonym of type is deprecated; in a future version of numpy, it will be understood as (type, (1,)) / '(1,)type'.\n",
      "  _np_quint8 = np.dtype([(\"quint8\", np.uint8, 1)])\n",
      "/home/malaika/anaconda3/envs/computervision/lib/python3.7/site-packages/tensorflow/python/framework/dtypes.py:528: FutureWarning: Passing (type, 1) or '1type' as a synonym of type is deprecated; in a future version of numpy, it will be understood as (type, (1,)) / '(1,)type'.\n",
      "  _np_qint16 = np.dtype([(\"qint16\", np.int16, 1)])\n",
      "/home/malaika/anaconda3/envs/computervision/lib/python3.7/site-packages/tensorflow/python/framework/dtypes.py:529: FutureWarning: Passing (type, 1) or '1type' as a synonym of type is deprecated; in a future version of numpy, it will be understood as (type, (1,)) / '(1,)type'.\n",
      "  _np_quint16 = np.dtype([(\"quint16\", np.uint16, 1)])\n",
      "/home/malaika/anaconda3/envs/computervision/lib/python3.7/site-packages/tensorflow/python/framework/dtypes.py:530: FutureWarning: Passing (type, 1) or '1type' as a synonym of type is deprecated; in a future version of numpy, it will be understood as (type, (1,)) / '(1,)type'.\n",
      "  _np_qint32 = np.dtype([(\"qint32\", np.int32, 1)])\n",
      "/home/malaika/anaconda3/envs/computervision/lib/python3.7/site-packages/tensorflow/python/framework/dtypes.py:535: FutureWarning: Passing (type, 1) or '1type' as a synonym of type is deprecated; in a future version of numpy, it will be understood as (type, (1,)) / '(1,)type'.\n",
      "  np_resource = np.dtype([(\"resource\", np.ubyte, 1)])\n"
     ]
    }
   ],
   "source": [
    "import numpy as np\n",
    "import pandas as pd\n",
    "from sklearn.model_selection import train_test_split\n",
    "import tensorflow as tf\n",
    "import os\n"
   ]
  },
  {
   "cell_type": "code",
   "execution_count": 2,
   "metadata": {},
   "outputs": [],
   "source": [
    "from skimage.transform import resize\n",
    "from tqdm import tqdm\n",
    "import matplotlib.pyplot as plt\n",
    "%matplotlib inline\n"
   ]
  },
  {
   "cell_type": "code",
   "execution_count": 3,
   "metadata": {},
   "outputs": [
    {
     "data": {
      "text/plain": [
       "'1.13.1'"
      ]
     },
     "execution_count": 3,
     "metadata": {},
     "output_type": "execute_result"
    }
   ],
   "source": [
    "tf.__version__"
   ]
  },
  {
   "cell_type": "markdown",
   "metadata": {},
   "source": [
    "# Load csv"
   ]
  },
  {
   "cell_type": "code",
   "execution_count": 5,
   "metadata": {},
   "outputs": [],
   "source": [
    "\n",
    "\n",
    "df = pd.read_csv('/media/malaika/Windows/Users/utilisateur/Desktop/projet_appliquer/galaxy_zoo/data_galaxy_zoo/training_solutions_rev1.csv')\n",
    "\n",
    "df_test = pd.read_csv('/media/malaika/Windows/Users/utilisateur/Desktop/projet_appliquer/galaxy_zoo/new_images_for_test.csv')\n",
    "\n",
    "img_class = df.loc[:,['GalaxyID', 'Class1.1', 'Class1.2','Class1.3']]"
   ]
  },
  {
   "cell_type": "code",
   "execution_count": 6,
   "metadata": {},
   "outputs": [
    {
     "data": {
      "text/html": [
       "<div>\n",
       "<style scoped>\n",
       "    .dataframe tbody tr th:only-of-type {\n",
       "        vertical-align: middle;\n",
       "    }\n",
       "\n",
       "    .dataframe tbody tr th {\n",
       "        vertical-align: top;\n",
       "    }\n",
       "\n",
       "    .dataframe thead th {\n",
       "        text-align: right;\n",
       "    }\n",
       "</style>\n",
       "<table border=\"1\" class=\"dataframe\">\n",
       "  <thead>\n",
       "    <tr style=\"text-align: right;\">\n",
       "      <th></th>\n",
       "      <th>GalaxyID</th>\n",
       "      <th>Class1.1</th>\n",
       "      <th>Class1.2</th>\n",
       "      <th>Class1.3</th>\n",
       "    </tr>\n",
       "  </thead>\n",
       "  <tbody>\n",
       "    <tr>\n",
       "      <th>0</th>\n",
       "      <td>100008</td>\n",
       "      <td>0.383147</td>\n",
       "      <td>0.616853</td>\n",
       "      <td>0.000000</td>\n",
       "    </tr>\n",
       "    <tr>\n",
       "      <th>1</th>\n",
       "      <td>100023</td>\n",
       "      <td>0.327001</td>\n",
       "      <td>0.663777</td>\n",
       "      <td>0.009222</td>\n",
       "    </tr>\n",
       "    <tr>\n",
       "      <th>2</th>\n",
       "      <td>100053</td>\n",
       "      <td>0.765717</td>\n",
       "      <td>0.177352</td>\n",
       "      <td>0.056931</td>\n",
       "    </tr>\n",
       "    <tr>\n",
       "      <th>3</th>\n",
       "      <td>100078</td>\n",
       "      <td>0.693377</td>\n",
       "      <td>0.238564</td>\n",
       "      <td>0.068059</td>\n",
       "    </tr>\n",
       "    <tr>\n",
       "      <th>4</th>\n",
       "      <td>100090</td>\n",
       "      <td>0.933839</td>\n",
       "      <td>0.000000</td>\n",
       "      <td>0.066161</td>\n",
       "    </tr>\n",
       "    <tr>\n",
       "      <th>...</th>\n",
       "      <td>...</td>\n",
       "      <td>...</td>\n",
       "      <td>...</td>\n",
       "      <td>...</td>\n",
       "    </tr>\n",
       "    <tr>\n",
       "      <th>61573</th>\n",
       "      <td>999948</td>\n",
       "      <td>0.510379</td>\n",
       "      <td>0.489621</td>\n",
       "      <td>0.000000</td>\n",
       "    </tr>\n",
       "    <tr>\n",
       "      <th>61574</th>\n",
       "      <td>999950</td>\n",
       "      <td>0.901216</td>\n",
       "      <td>0.098784</td>\n",
       "      <td>0.000000</td>\n",
       "    </tr>\n",
       "    <tr>\n",
       "      <th>61575</th>\n",
       "      <td>999958</td>\n",
       "      <td>0.202841</td>\n",
       "      <td>0.777376</td>\n",
       "      <td>0.019783</td>\n",
       "    </tr>\n",
       "    <tr>\n",
       "      <th>61576</th>\n",
       "      <td>999964</td>\n",
       "      <td>0.091000</td>\n",
       "      <td>0.909000</td>\n",
       "      <td>0.000000</td>\n",
       "    </tr>\n",
       "    <tr>\n",
       "      <th>61577</th>\n",
       "      <td>999967</td>\n",
       "      <td>0.767000</td>\n",
       "      <td>0.140000</td>\n",
       "      <td>0.093000</td>\n",
       "    </tr>\n",
       "  </tbody>\n",
       "</table>\n",
       "<p>61578 rows × 4 columns</p>\n",
       "</div>"
      ],
      "text/plain": [
       "       GalaxyID  Class1.1  Class1.2  Class1.3\n",
       "0        100008  0.383147  0.616853  0.000000\n",
       "1        100023  0.327001  0.663777  0.009222\n",
       "2        100053  0.765717  0.177352  0.056931\n",
       "3        100078  0.693377  0.238564  0.068059\n",
       "4        100090  0.933839  0.000000  0.066161\n",
       "...         ...       ...       ...       ...\n",
       "61573    999948  0.510379  0.489621  0.000000\n",
       "61574    999950  0.901216  0.098784  0.000000\n",
       "61575    999958  0.202841  0.777376  0.019783\n",
       "61576    999964  0.091000  0.909000  0.000000\n",
       "61577    999967  0.767000  0.140000  0.093000\n",
       "\n",
       "[61578 rows x 4 columns]"
      ]
     },
     "execution_count": 6,
     "metadata": {},
     "output_type": "execute_result"
    }
   ],
   "source": [
    "img_class"
   ]
  },
  {
   "cell_type": "markdown",
   "metadata": {},
   "source": [
    "## We remove the image that we did not process"
   ]
  },
  {
   "cell_type": "code",
   "execution_count": 7,
   "metadata": {},
   "outputs": [],
   "source": [
    "\n",
    "indexNames = img_class[ img_class['GalaxyID'] == 383063 ].index\n",
    " \n",
    "# Delete these row indexes from dataFrame\n",
    "img_class.drop(indexNames , inplace=True)"
   ]
  },
  {
   "cell_type": "code",
   "execution_count": 8,
   "metadata": {},
   "outputs": [],
   "source": [
    "dossier_images = 'resized_crop_images'"
   ]
  },
  {
   "cell_type": "raw",
   "metadata": {},
   "source": [
    "SEED = 42\n",
    "tf.compat.v1.keras.backend.clear_session()\n",
    "\n",
    "os.environ['PYTHONHASHSEED']=str(SEED)\n",
    "np.random.seed(SEED)\n",
    " \n",
    "\n",
    "\n",
    "session_conf = tf.compat.v1.ConfigProto(intra_op_parallelism_threads=1,\n",
    "                              inter_op_parallelism_threads=1)\n",
    "\n",
    "\n",
    "\n",
    "sess = tf.compat.v1.Session(graph=tf.compat.v1.get_default_graph(),config=session_conf)\n",
    "tf.compat.v1.keras.backend.set_session(sess)"
   ]
  },
  {
   "cell_type": "raw",
   "metadata": {},
   "source": [
    "if not os.path.exists('./data_galaxy_zoo/images_training_rev1/new_train_test_images'):\n",
    "    os.makedirs('./data_galaxy_zoo/images_training_rev1/new_train_test_images')"
   ]
  },
  {
   "cell_type": "raw",
   "metadata": {},
   "source": [
    "from PIL import Image\n",
    "for id_image in df_test['GalaxyID']: \n",
    "    \n",
    "    image = Image.open(f'./data_galaxy_zoo/images_training_rev1/{dossier_images}/{id_image}.jpg')\n",
    "    new_image = image.resize((64, 64))\n",
    "    new_image.save(f'./data_galaxy_zoo/images_training_rev1/{dossier_images}/{id_image}.jpg')"
   ]
  },
  {
   "cell_type": "markdown",
   "metadata": {},
   "source": [
    "# Create, Crop and resize XTrain "
   ]
  },
  {
   "cell_type": "raw",
   "metadata": {},
   "source": [
    "from skimage.transform import resize\n",
    "from tqdm import tqdm\n",
    "import matplotlib.pyplot as plt\n",
    "%matplotlib inline\n",
    "          \n",
    "\n",
    "ORIG_SHAPE = (424,424)\n",
    "CROP_SIZE = (256,256)\n",
    "IMG_SHAPE = (64,64)\n",
    "\n",
    "def get_image(path, x1,y1, shape, crop_size):\n",
    "    x = plt.imread(path)\n",
    "    x = x[x1:x1+crop_size[0], y1:y1+crop_size[1]]\n",
    "    x = resize(x, shape)\n",
    "    x = x/255.\n",
    "    return x\n",
    "    \n",
    "def get_all_images(dataframe):\n",
    "\n",
    "   \n",
    "    sel = dataframe.values\n",
    "    ids = sel[:,0].astype(int).astype(str)\n",
    "    y_batch = sel[:,1:]\n",
    "    x_batch = []\n",
    "    for i in tqdm(ids):\n",
    "        x = get_image('data/images_training_rev1/'+i+'.jpg', x1,y1, shape=shape, crop_size=crop_size)\n",
    "        x_batch.append(x)\n",
    "    x_batch = np.array(x_batch)\n",
    "    return x_batch, y_batch\n",
    "        \n",
    "X_train, y_train = get_all_images(df_train)\n",
    "X_test, y_test = get_all_images(df_test)"
   ]
  },
  {
   "cell_type": "code",
   "execution_count": 9,
   "metadata": {},
   "outputs": [],
   "source": [
    "\n",
    "SEED = 42\n",
    "df_train, df_test = train_test_split(img_class, test_size=0.2, random_state=SEED)"
   ]
  },
  {
   "cell_type": "markdown",
   "metadata": {},
   "source": [
    "## We get X and Y"
   ]
  },
  {
   "cell_type": "code",
   "execution_count": 10,
   "metadata": {},
   "outputs": [
    {
     "name": "stderr",
     "output_type": "stream",
     "text": [
      "100%|██████████| 49261/49261 [00:32<00:00, 1535.58it/s]\n",
      "100%|██████████| 12316/12316 [00:06<00:00, 1885.72it/s]\n"
     ]
    }
   ],
   "source": [
    "from skimage.transform import resize\n",
    "from tqdm import tqdm\n",
    "import matplotlib.pyplot as plt\n",
    "%matplotlib inline\n",
    "\n",
    "def get_image(path):\n",
    "    x = plt.imread(path)\n",
    "    return x\n",
    "    \n",
    "def get_all_images(dataframe):\n",
    "    sel = dataframe.values\n",
    "    ids = sel[:,0].astype(int).astype(str)\n",
    "    y_batch = sel[:,1:]\n",
    "    x_batch = []\n",
    "    for i in tqdm(ids):\n",
    "        x = get_image(f'/media/malaika/Windows/Users/utilisateur/Desktop/projet_appliquer/galaxy_zoo/data_galaxy_zoo/images_training_rev1/{dossier_images}/{i}.jpg')\n",
    "        x_batch.append(x/255) # normalisation x \n",
    "    x_batch = np.array(x_batch)\n",
    "    return x_batch, y_batch\n",
    "        \n",
    "X_train, y_train = get_all_images(df_train)\n",
    "X_test, y_test = get_all_images(df_test)"
   ]
  },
  {
   "cell_type": "code",
   "execution_count": 11,
   "metadata": {},
   "outputs": [],
   "source": [
    "#Rename Test\n",
    "X_val = X_test.copy()\n",
    "y_val = y_test.copy()"
   ]
  },
  {
   "cell_type": "code",
   "execution_count": 12,
   "metadata": {
    "scrolled": true
   },
   "outputs": [
    {
     "name": "stdout",
     "output_type": "stream",
     "text": [
      "X_train (49261, 64, 64, 3)\n",
      "y_train (49261, 3)\n",
      "X_val (12316, 64, 64, 3)\n",
      "y_val (12316, 3)\n"
     ]
    }
   ],
   "source": [
    "print('X_train',X_train.shape)\n",
    "print('y_train',y_train.shape)\n",
    "print('X_val',X_val.shape)\n",
    "print('y_val',y_val.shape)\n"
   ]
  },
  {
   "cell_type": "code",
   "execution_count": 13,
   "metadata": {},
   "outputs": [],
   "source": [
    "np.save('X_train', X_train)\n",
    "np.save('y_train', y_train)\n",
    "np.save('X_val', X_val)\n",
    "np.save('y_val', y_val)"
   ]
  },
  {
   "cell_type": "markdown",
   "metadata": {},
   "source": [
    "# Load npy if already save"
   ]
  },
  {
   "cell_type": "code",
   "execution_count": 14,
   "metadata": {},
   "outputs": [],
   "source": [
    "import numpy as np\n",
    " \n",
    "X_train = np.load('X_train.npy')\n",
    "y_train = np.load('y_train.npy')\n",
    "X_val = np.load('X_val.npy')\n",
    "y_val = np.load('y_val.npy')"
   ]
  },
  {
   "cell_type": "markdown",
   "metadata": {},
   "source": [
    "# CNN model"
   ]
  },
  {
   "cell_type": "code",
   "execution_count": 12,
   "metadata": {
    "scrolled": true
   },
   "outputs": [
    {
     "ename": "FileNotFoundError",
     "evalue": "No such file or directory: 'cnn.png'",
     "output_type": "error",
     "traceback": [
      "\u001b[1;31m---------------------------------------------------------------------------\u001b[0m",
      "\u001b[1;31mTypeError\u001b[0m                                 Traceback (most recent call last)",
      "\u001b[1;32m~\\Anaconda3\\envs\\computervision\\lib\\site-packages\\IPython\\core\\display.py\u001b[0m in \u001b[0;36m_data_and_metadata\u001b[1;34m(self, always_both)\u001b[0m\n\u001b[0;32m   1271\u001b[0m         \u001b[1;32mtry\u001b[0m\u001b[1;33m:\u001b[0m\u001b[1;33m\u001b[0m\u001b[1;33m\u001b[0m\u001b[0m\n\u001b[1;32m-> 1272\u001b[1;33m             \u001b[0mb64_data\u001b[0m \u001b[1;33m=\u001b[0m \u001b[0mb2a_base64\u001b[0m\u001b[1;33m(\u001b[0m\u001b[0mself\u001b[0m\u001b[1;33m.\u001b[0m\u001b[0mdata\u001b[0m\u001b[1;33m)\u001b[0m\u001b[1;33m.\u001b[0m\u001b[0mdecode\u001b[0m\u001b[1;33m(\u001b[0m\u001b[1;34m'ascii'\u001b[0m\u001b[1;33m)\u001b[0m\u001b[1;33m\u001b[0m\u001b[1;33m\u001b[0m\u001b[0m\n\u001b[0m\u001b[0;32m   1273\u001b[0m         \u001b[1;32mexcept\u001b[0m \u001b[0mTypeError\u001b[0m\u001b[1;33m:\u001b[0m\u001b[1;33m\u001b[0m\u001b[1;33m\u001b[0m\u001b[0m\n",
      "\u001b[1;31mTypeError\u001b[0m: a bytes-like object is required, not 'str'",
      "\nDuring handling of the above exception, another exception occurred:\n",
      "\u001b[1;31mFileNotFoundError\u001b[0m                         Traceback (most recent call last)",
      "\u001b[1;32m~\\Anaconda3\\envs\\computervision\\lib\\site-packages\\IPython\\core\\formatters.py\u001b[0m in \u001b[0;36m__call__\u001b[1;34m(self, obj, include, exclude)\u001b[0m\n\u001b[0;32m    968\u001b[0m \u001b[1;33m\u001b[0m\u001b[0m\n\u001b[0;32m    969\u001b[0m             \u001b[1;32mif\u001b[0m \u001b[0mmethod\u001b[0m \u001b[1;32mis\u001b[0m \u001b[1;32mnot\u001b[0m \u001b[1;32mNone\u001b[0m\u001b[1;33m:\u001b[0m\u001b[1;33m\u001b[0m\u001b[1;33m\u001b[0m\u001b[0m\n\u001b[1;32m--> 970\u001b[1;33m                 \u001b[1;32mreturn\u001b[0m \u001b[0mmethod\u001b[0m\u001b[1;33m(\u001b[0m\u001b[0minclude\u001b[0m\u001b[1;33m=\u001b[0m\u001b[0minclude\u001b[0m\u001b[1;33m,\u001b[0m \u001b[0mexclude\u001b[0m\u001b[1;33m=\u001b[0m\u001b[0mexclude\u001b[0m\u001b[1;33m)\u001b[0m\u001b[1;33m\u001b[0m\u001b[1;33m\u001b[0m\u001b[0m\n\u001b[0m\u001b[0;32m    971\u001b[0m             \u001b[1;32mreturn\u001b[0m \u001b[1;32mNone\u001b[0m\u001b[1;33m\u001b[0m\u001b[1;33m\u001b[0m\u001b[0m\n\u001b[0;32m    972\u001b[0m         \u001b[1;32melse\u001b[0m\u001b[1;33m:\u001b[0m\u001b[1;33m\u001b[0m\u001b[1;33m\u001b[0m\u001b[0m\n",
      "\u001b[1;32m~\\Anaconda3\\envs\\computervision\\lib\\site-packages\\IPython\\core\\display.py\u001b[0m in \u001b[0;36m_repr_mimebundle_\u001b[1;34m(self, include, exclude)\u001b[0m\n\u001b[0;32m   1260\u001b[0m         \u001b[1;32mif\u001b[0m \u001b[0mself\u001b[0m\u001b[1;33m.\u001b[0m\u001b[0membed\u001b[0m\u001b[1;33m:\u001b[0m\u001b[1;33m\u001b[0m\u001b[1;33m\u001b[0m\u001b[0m\n\u001b[0;32m   1261\u001b[0m             \u001b[0mmimetype\u001b[0m \u001b[1;33m=\u001b[0m \u001b[0mself\u001b[0m\u001b[1;33m.\u001b[0m\u001b[0m_mimetype\u001b[0m\u001b[1;33m\u001b[0m\u001b[1;33m\u001b[0m\u001b[0m\n\u001b[1;32m-> 1262\u001b[1;33m             \u001b[0mdata\u001b[0m\u001b[1;33m,\u001b[0m \u001b[0mmetadata\u001b[0m \u001b[1;33m=\u001b[0m \u001b[0mself\u001b[0m\u001b[1;33m.\u001b[0m\u001b[0m_data_and_metadata\u001b[0m\u001b[1;33m(\u001b[0m\u001b[0malways_both\u001b[0m\u001b[1;33m=\u001b[0m\u001b[1;32mTrue\u001b[0m\u001b[1;33m)\u001b[0m\u001b[1;33m\u001b[0m\u001b[1;33m\u001b[0m\u001b[0m\n\u001b[0m\u001b[0;32m   1263\u001b[0m             \u001b[1;32mif\u001b[0m \u001b[0mmetadata\u001b[0m\u001b[1;33m:\u001b[0m\u001b[1;33m\u001b[0m\u001b[1;33m\u001b[0m\u001b[0m\n\u001b[0;32m   1264\u001b[0m                 \u001b[0mmetadata\u001b[0m \u001b[1;33m=\u001b[0m \u001b[1;33m{\u001b[0m\u001b[0mmimetype\u001b[0m\u001b[1;33m:\u001b[0m \u001b[0mmetadata\u001b[0m\u001b[1;33m}\u001b[0m\u001b[1;33m\u001b[0m\u001b[1;33m\u001b[0m\u001b[0m\n",
      "\u001b[1;32m~\\Anaconda3\\envs\\computervision\\lib\\site-packages\\IPython\\core\\display.py\u001b[0m in \u001b[0;36m_data_and_metadata\u001b[1;34m(self, always_both)\u001b[0m\n\u001b[0;32m   1273\u001b[0m         \u001b[1;32mexcept\u001b[0m \u001b[0mTypeError\u001b[0m\u001b[1;33m:\u001b[0m\u001b[1;33m\u001b[0m\u001b[1;33m\u001b[0m\u001b[0m\n\u001b[0;32m   1274\u001b[0m             raise FileNotFoundError(\n\u001b[1;32m-> 1275\u001b[1;33m                 \"No such file or directory: '%s'\" % (self.data))\n\u001b[0m\u001b[0;32m   1276\u001b[0m         \u001b[0mmd\u001b[0m \u001b[1;33m=\u001b[0m \u001b[1;33m{\u001b[0m\u001b[1;33m}\u001b[0m\u001b[1;33m\u001b[0m\u001b[1;33m\u001b[0m\u001b[0m\n\u001b[0;32m   1277\u001b[0m         \u001b[1;32mif\u001b[0m \u001b[0mself\u001b[0m\u001b[1;33m.\u001b[0m\u001b[0mmetadata\u001b[0m\u001b[1;33m:\u001b[0m\u001b[1;33m\u001b[0m\u001b[1;33m\u001b[0m\u001b[0m\n",
      "\u001b[1;31mFileNotFoundError\u001b[0m: No such file or directory: 'cnn.png'"
     ]
    },
    {
     "ename": "FileNotFoundError",
     "evalue": "No such file or directory: 'cnn.png'",
     "output_type": "error",
     "traceback": [
      "\u001b[1;31m---------------------------------------------------------------------------\u001b[0m",
      "\u001b[1;31mTypeError\u001b[0m                                 Traceback (most recent call last)",
      "\u001b[1;32m~\\Anaconda3\\envs\\computervision\\lib\\site-packages\\IPython\\core\\display.py\u001b[0m in \u001b[0;36m_data_and_metadata\u001b[1;34m(self, always_both)\u001b[0m\n\u001b[0;32m   1271\u001b[0m         \u001b[1;32mtry\u001b[0m\u001b[1;33m:\u001b[0m\u001b[1;33m\u001b[0m\u001b[1;33m\u001b[0m\u001b[0m\n\u001b[1;32m-> 1272\u001b[1;33m             \u001b[0mb64_data\u001b[0m \u001b[1;33m=\u001b[0m \u001b[0mb2a_base64\u001b[0m\u001b[1;33m(\u001b[0m\u001b[0mself\u001b[0m\u001b[1;33m.\u001b[0m\u001b[0mdata\u001b[0m\u001b[1;33m)\u001b[0m\u001b[1;33m.\u001b[0m\u001b[0mdecode\u001b[0m\u001b[1;33m(\u001b[0m\u001b[1;34m'ascii'\u001b[0m\u001b[1;33m)\u001b[0m\u001b[1;33m\u001b[0m\u001b[1;33m\u001b[0m\u001b[0m\n\u001b[0m\u001b[0;32m   1273\u001b[0m         \u001b[1;32mexcept\u001b[0m \u001b[0mTypeError\u001b[0m\u001b[1;33m:\u001b[0m\u001b[1;33m\u001b[0m\u001b[1;33m\u001b[0m\u001b[0m\n",
      "\u001b[1;31mTypeError\u001b[0m: a bytes-like object is required, not 'str'",
      "\nDuring handling of the above exception, another exception occurred:\n",
      "\u001b[1;31mFileNotFoundError\u001b[0m                         Traceback (most recent call last)",
      "\u001b[1;32m~\\Anaconda3\\envs\\computervision\\lib\\site-packages\\IPython\\core\\formatters.py\u001b[0m in \u001b[0;36m__call__\u001b[1;34m(self, obj)\u001b[0m\n\u001b[0;32m    343\u001b[0m             \u001b[0mmethod\u001b[0m \u001b[1;33m=\u001b[0m \u001b[0mget_real_method\u001b[0m\u001b[1;33m(\u001b[0m\u001b[0mobj\u001b[0m\u001b[1;33m,\u001b[0m \u001b[0mself\u001b[0m\u001b[1;33m.\u001b[0m\u001b[0mprint_method\u001b[0m\u001b[1;33m)\u001b[0m\u001b[1;33m\u001b[0m\u001b[1;33m\u001b[0m\u001b[0m\n\u001b[0;32m    344\u001b[0m             \u001b[1;32mif\u001b[0m \u001b[0mmethod\u001b[0m \u001b[1;32mis\u001b[0m \u001b[1;32mnot\u001b[0m \u001b[1;32mNone\u001b[0m\u001b[1;33m:\u001b[0m\u001b[1;33m\u001b[0m\u001b[1;33m\u001b[0m\u001b[0m\n\u001b[1;32m--> 345\u001b[1;33m                 \u001b[1;32mreturn\u001b[0m \u001b[0mmethod\u001b[0m\u001b[1;33m(\u001b[0m\u001b[1;33m)\u001b[0m\u001b[1;33m\u001b[0m\u001b[1;33m\u001b[0m\u001b[0m\n\u001b[0m\u001b[0;32m    346\u001b[0m             \u001b[1;32mreturn\u001b[0m \u001b[1;32mNone\u001b[0m\u001b[1;33m\u001b[0m\u001b[1;33m\u001b[0m\u001b[0m\n\u001b[0;32m    347\u001b[0m         \u001b[1;32melse\u001b[0m\u001b[1;33m:\u001b[0m\u001b[1;33m\u001b[0m\u001b[1;33m\u001b[0m\u001b[0m\n",
      "\u001b[1;32m~\\Anaconda3\\envs\\computervision\\lib\\site-packages\\IPython\\core\\display.py\u001b[0m in \u001b[0;36m_repr_png_\u001b[1;34m(self)\u001b[0m\n\u001b[0;32m   1290\u001b[0m     \u001b[1;32mdef\u001b[0m \u001b[0m_repr_png_\u001b[0m\u001b[1;33m(\u001b[0m\u001b[0mself\u001b[0m\u001b[1;33m)\u001b[0m\u001b[1;33m:\u001b[0m\u001b[1;33m\u001b[0m\u001b[1;33m\u001b[0m\u001b[0m\n\u001b[0;32m   1291\u001b[0m         \u001b[1;32mif\u001b[0m \u001b[0mself\u001b[0m\u001b[1;33m.\u001b[0m\u001b[0membed\u001b[0m \u001b[1;32mand\u001b[0m \u001b[0mself\u001b[0m\u001b[1;33m.\u001b[0m\u001b[0mformat\u001b[0m \u001b[1;33m==\u001b[0m \u001b[0mself\u001b[0m\u001b[1;33m.\u001b[0m\u001b[0m_FMT_PNG\u001b[0m\u001b[1;33m:\u001b[0m\u001b[1;33m\u001b[0m\u001b[1;33m\u001b[0m\u001b[0m\n\u001b[1;32m-> 1292\u001b[1;33m             \u001b[1;32mreturn\u001b[0m \u001b[0mself\u001b[0m\u001b[1;33m.\u001b[0m\u001b[0m_data_and_metadata\u001b[0m\u001b[1;33m(\u001b[0m\u001b[1;33m)\u001b[0m\u001b[1;33m\u001b[0m\u001b[1;33m\u001b[0m\u001b[0m\n\u001b[0m\u001b[0;32m   1293\u001b[0m \u001b[1;33m\u001b[0m\u001b[0m\n\u001b[0;32m   1294\u001b[0m     \u001b[1;32mdef\u001b[0m \u001b[0m_repr_jpeg_\u001b[0m\u001b[1;33m(\u001b[0m\u001b[0mself\u001b[0m\u001b[1;33m)\u001b[0m\u001b[1;33m:\u001b[0m\u001b[1;33m\u001b[0m\u001b[1;33m\u001b[0m\u001b[0m\n",
      "\u001b[1;32m~\\Anaconda3\\envs\\computervision\\lib\\site-packages\\IPython\\core\\display.py\u001b[0m in \u001b[0;36m_data_and_metadata\u001b[1;34m(self, always_both)\u001b[0m\n\u001b[0;32m   1273\u001b[0m         \u001b[1;32mexcept\u001b[0m \u001b[0mTypeError\u001b[0m\u001b[1;33m:\u001b[0m\u001b[1;33m\u001b[0m\u001b[1;33m\u001b[0m\u001b[0m\n\u001b[0;32m   1274\u001b[0m             raise FileNotFoundError(\n\u001b[1;32m-> 1275\u001b[1;33m                 \"No such file or directory: '%s'\" % (self.data))\n\u001b[0m\u001b[0;32m   1276\u001b[0m         \u001b[0mmd\u001b[0m \u001b[1;33m=\u001b[0m \u001b[1;33m{\u001b[0m\u001b[1;33m}\u001b[0m\u001b[1;33m\u001b[0m\u001b[1;33m\u001b[0m\u001b[0m\n\u001b[0;32m   1277\u001b[0m         \u001b[1;32mif\u001b[0m \u001b[0mself\u001b[0m\u001b[1;33m.\u001b[0m\u001b[0mmetadata\u001b[0m\u001b[1;33m:\u001b[0m\u001b[1;33m\u001b[0m\u001b[1;33m\u001b[0m\u001b[0m\n",
      "\u001b[1;31mFileNotFoundError\u001b[0m: No such file or directory: 'cnn.png'"
     ]
    },
    {
     "data": {
      "text/plain": [
       "<IPython.core.display.Image object>"
      ]
     },
     "execution_count": 12,
     "metadata": {},
     "output_type": "execute_result"
    }
   ],
   "source": [
    "from IPython.display import Image\n",
    "Image(\"cnn.png\")"
   ]
  },
  {
   "cell_type": "markdown",
   "metadata": {},
   "source": [
    "**Definition:**  \n",
    "[keras doc](https://keras.io/layers/core/)  \n",
    "\n",
    "* Conv2D : \n",
    "``` \n",
    "keras.backend.conv2d(x, kernel, strides=(1, 1), padding='valid', data_format=None, dilation_rate=(1, 1))\n",
    "```\n",
    "  \n",
    "* Dropout : Dropout consists in randomly setting a fraction rate of input units to 0 at each update during training time, which helps prevent overfitting.    \n",
    "* Flatten : Flattens the input. Does not affect the batch size  \n"
   ]
  },
  {
   "cell_type": "markdown",
   "metadata": {},
   "source": [
    "## CNN with Sigmoid"
   ]
  },
  {
   "cell_type": "code",
   "execution_count": 14,
   "metadata": {},
   "outputs": [
    {
     "name": "stdout",
     "output_type": "stream",
     "text": [
      "WARNING:tensorflow:From /home/malaika/anaconda3/envs/computervision/lib/python3.7/site-packages/tensorflow/python/ops/resource_variable_ops.py:435: colocate_with (from tensorflow.python.framework.ops) is deprecated and will be removed in a future version.\n",
      "Instructions for updating:\n",
      "Colocations handled automatically by placer.\n",
      "WARNING:tensorflow:From /home/malaika/anaconda3/envs/computervision/lib/python3.7/site-packages/tensorflow/python/keras/layers/core.py:143: calling dropout (from tensorflow.python.ops.nn_ops) with keep_prob is deprecated and will be removed in a future version.\n",
      "Instructions for updating:\n",
      "Please use `rate` instead of `keep_prob`. Rate should be set to `rate = 1 - keep_prob`.\n",
      "_________________________________________________________________\n",
      "Layer (type)                 Output Shape              Param #   \n",
      "=================================================================\n",
      "conv2d (Conv2D)              (None, 62, 62, 8)         224       \n",
      "_________________________________________________________________\n",
      "conv2d_1 (Conv2D)            (None, 60, 60, 16)        1168      \n",
      "_________________________________________________________________\n",
      "activation (Activation)      (None, 60, 60, 16)        0         \n",
      "_________________________________________________________________\n",
      "max_pooling2d (MaxPooling2D) (None, 30, 30, 16)        0         \n",
      "_________________________________________________________________\n",
      "conv2d_2 (Conv2D)            (None, 28, 28, 32)        4640      \n",
      "_________________________________________________________________\n",
      "conv2d_3 (Conv2D)            (None, 26, 26, 16)        4624      \n",
      "_________________________________________________________________\n",
      "activation_1 (Activation)    (None, 26, 26, 16)        0         \n",
      "_________________________________________________________________\n",
      "max_pooling2d_1 (MaxPooling2 (None, 13, 13, 16)        0         \n",
      "_________________________________________________________________\n",
      "conv2d_4 (Conv2D)            (None, 11, 11, 8)         1160      \n",
      "_________________________________________________________________\n",
      "conv2d_5 (Conv2D)            (None, 9, 9, 8)           584       \n",
      "_________________________________________________________________\n",
      "activation_2 (Activation)    (None, 9, 9, 8)           0         \n",
      "_________________________________________________________________\n",
      "global_max_pooling2d (Global (None, 8)                 0         \n",
      "_________________________________________________________________\n",
      "dropout (Dropout)            (None, 8)                 0         \n",
      "_________________________________________________________________\n",
      "dense (Dense)                (None, 8)                 72        \n",
      "_________________________________________________________________\n",
      "activation_3 (Activation)    (None, 8)                 0         \n",
      "_________________________________________________________________\n",
      "dropout_1 (Dropout)          (None, 8)                 0         \n",
      "_________________________________________________________________\n",
      "dense_1 (Dense)              (None, 8)                 72        \n",
      "_________________________________________________________________\n",
      "activation_4 (Activation)    (None, 8)                 0         \n",
      "_________________________________________________________________\n",
      "dropout_2 (Dropout)          (None, 8)                 0         \n",
      "_________________________________________________________________\n",
      "dense_2 (Dense)              (None, 8)                 72        \n",
      "_________________________________________________________________\n",
      "activation_5 (Activation)    (None, 8)                 0         \n",
      "_________________________________________________________________\n",
      "dropout_3 (Dropout)          (None, 8)                 0         \n",
      "_________________________________________________________________\n",
      "dense_3 (Dense)              (None, 3)                 27        \n",
      "_________________________________________________________________\n",
      "activation_6 (Activation)    (None, 3)                 0         \n",
      "=================================================================\n",
      "Total params: 12,643\n",
      "Trainable params: 12,643\n",
      "Non-trainable params: 0\n",
      "_________________________________________________________________\n"
     ]
    }
   ],
   "source": [
    "from tensorflow.keras.models import Sequential\n",
    "from tensorflow.keras.layers import Conv2D, MaxPooling2D\n",
    "from tensorflow.keras.layers import Activation, Dropout, Flatten, Dense, BatchNormalization, GlobalMaxPooling2D\n",
    "from tensorflow.keras import backend as K\n",
    "\n",
    "#def root_mean_squared_error(y_true, y_pred):\n",
    "#        return K.sqrt(K.mean(K.square(y_pred - y_true))) \n",
    "\n",
    "IMG_SHAPE = (64,64)\n",
    "\n",
    "model = Sequential()\n",
    "\n",
    "model.add(Conv2D(8, (3, 3), input_shape=(IMG_SHAPE[0], IMG_SHAPE[1], 3)))\n",
    "model.add(Conv2D(16, (3, 3)))\n",
    "#model.add(BatchNormalization())\n",
    "model.add(Activation('relu'))\n",
    "model.add(MaxPooling2D(pool_size=(2, 2)))\n",
    "\n",
    "model.add(Conv2D(32, (3, 3)))\n",
    "model.add(Conv2D(16, (3, 3)))\n",
    "#model.add(BatchNormalization())\n",
    "model.add(Activation('relu'))\n",
    "model.add(MaxPooling2D(pool_size=(2, 2)))\n",
    "\n",
    "model.add(Conv2D(8, (3, 3)))\n",
    "model.add(Conv2D(8, (3, 3)))\n",
    "#model.add(BatchNormalization())\n",
    "model.add(Activation('relu'))\n",
    "model.add(GlobalMaxPooling2D())\n",
    "\n",
    "\n",
    "model.add(Dropout(0.25))\n",
    "model.add(Dense(8))\n",
    "model.add(Activation('relu'))\n",
    "\n",
    "model.add(Dropout(0.25))\n",
    "model.add(Dense(8))\n",
    "model.add(Activation('relu'))\n",
    "\n",
    "model.add(Dropout(0.25))\n",
    "model.add(Dense(8))\n",
    "model.add(Activation('relu'))\n",
    "\n",
    "model.add(Dropout(0.25))\n",
    "model.add(Dense(3)) # on ne test que les 3 premières classe\n",
    "model.add(Activation('sigmoid'))\n",
    "\n",
    "model.compile(loss='categorical_crossentropy', optimizer='nadam', metrics=['mae', 'acc'])\n",
    "model.summary()"
   ]
  },
  {
   "cell_type": "code",
   "execution_count": 15,
   "metadata": {
    "scrolled": true
   },
   "outputs": [
    {
     "name": "stdout",
     "output_type": "stream",
     "text": [
      "Train on 49261 samples, validate on 12316 samples\n",
      "WARNING:tensorflow:From /home/malaika/anaconda3/envs/computervision/lib/python3.7/site-packages/tensorflow/python/ops/math_ops.py:3066: to_int32 (from tensorflow.python.ops.math_ops) is deprecated and will be removed in a future version.\n",
      "Instructions for updating:\n",
      "Use tf.cast instead.\n",
      "WARNING:tensorflow:From /home/malaika/anaconda3/envs/computervision/lib/python3.7/site-packages/tensorflow/python/ops/math_grad.py:102: div (from tensorflow.python.ops.math_ops) is deprecated and will be removed in a future version.\n",
      "Instructions for updating:\n",
      "Deprecated in favor of operator or tf.math.divide.\n",
      "Epoch 1/30\n",
      "49261/49261 [==============================] - 186s 4ms/sample - loss: 0.8034 - mean_absolute_error: 0.2127 - acc: 0.5886 - val_loss: 0.7295 - val_mean_absolute_error: 0.1560 - val_acc: 0.7671\n",
      "Epoch 2/30\n",
      "49261/49261 [==============================] - 197s 4ms/sample - loss: 0.7407 - mean_absolute_error: 0.1682 - acc: 0.7198 - val_loss: 0.7208 - val_mean_absolute_error: 0.1735 - val_acc: 0.7397\n",
      "Epoch 3/30\n",
      "49261/49261 [==============================] - 201s 4ms/sample - loss: 0.7236 - mean_absolute_error: 0.1634 - acc: 0.7583 - val_loss: 0.7028 - val_mean_absolute_error: 0.1568 - val_acc: 0.7800\n",
      "Epoch 4/30\n",
      "49261/49261 [==============================] - 205s 4ms/sample - loss: 0.7114 - mean_absolute_error: 0.1512 - acc: 0.7737 - val_loss: 0.6917 - val_mean_absolute_error: 0.1451 - val_acc: 0.8032\n",
      "Epoch 5/30\n",
      "49261/49261 [==============================] - 198s 4ms/sample - loss: 0.7040 - mean_absolute_error: 0.1473 - acc: 0.7835 - val_loss: 0.6859 - val_mean_absolute_error: 0.1406 - val_acc: 0.8019\n",
      "Epoch 6/30\n",
      "49261/49261 [==============================] - 190s 4ms/sample - loss: 0.6990 - mean_absolute_error: 0.1456 - acc: 0.7909 - val_loss: 0.6801 - val_mean_absolute_error: 0.1413 - val_acc: 0.8128\n",
      "Epoch 7/30\n",
      "49261/49261 [==============================] - 189s 4ms/sample - loss: 0.6959 - mean_absolute_error: 0.1447 - acc: 0.7914 - val_loss: 0.6807 - val_mean_absolute_error: 0.1407 - val_acc: 0.8104\n",
      "Epoch 8/30\n",
      "49261/49261 [==============================] - 191s 4ms/sample - loss: 0.6940 - mean_absolute_error: 0.1449 - acc: 0.7947 - val_loss: 0.6816 - val_mean_absolute_error: 0.1425 - val_acc: 0.8068\n",
      "Epoch 9/30\n",
      "49261/49261 [==============================] - 190s 4ms/sample - loss: 0.6917 - mean_absolute_error: 0.1443 - acc: 0.7977 - val_loss: 0.6772 - val_mean_absolute_error: 0.1401 - val_acc: 0.8046\n",
      "Epoch 10/30\n",
      "49261/49261 [==============================] - 189s 4ms/sample - loss: 0.6902 - mean_absolute_error: 0.1437 - acc: 0.7991 - val_loss: 0.6899 - val_mean_absolute_error: 0.1438 - val_acc: 0.7939\n",
      "Epoch 11/30\n",
      "49261/49261 [==============================] - 189s 4ms/sample - loss: 0.6926 - mean_absolute_error: 0.1451 - acc: 0.7955 - val_loss: 0.6837 - val_mean_absolute_error: 0.1409 - val_acc: 0.7974\n",
      "Epoch 12/30\n",
      "49261/49261 [==============================] - 187s 4ms/sample - loss: 0.6898 - mean_absolute_error: 0.1432 - acc: 0.7981 - val_loss: 0.6755 - val_mean_absolute_error: 0.1409 - val_acc: 0.8178\n",
      "Epoch 13/30\n",
      "49261/49261 [==============================] - 191s 4ms/sample - loss: 0.6884 - mean_absolute_error: 0.1431 - acc: 0.8011 - val_loss: 0.6759 - val_mean_absolute_error: 0.1386 - val_acc: 0.8137\n",
      "Epoch 14/30\n",
      "49261/49261 [==============================] - 189s 4ms/sample - loss: 0.6873 - mean_absolute_error: 0.1433 - acc: 0.8016 - val_loss: 0.6754 - val_mean_absolute_error: 0.1403 - val_acc: 0.8165\n",
      "Epoch 15/30\n",
      "49261/49261 [==============================] - 186s 4ms/sample - loss: 0.6950 - mean_absolute_error: 0.1474 - acc: 0.7930 - val_loss: 0.6810 - val_mean_absolute_error: 0.1439 - val_acc: 0.8089\n",
      "Epoch 16/30\n",
      "49261/49261 [==============================] - 190s 4ms/sample - loss: 0.6916 - mean_absolute_error: 0.1449 - acc: 0.7969 - val_loss: 0.6777 - val_mean_absolute_error: 0.1392 - val_acc: 0.8154\n",
      "Epoch 17/30\n",
      "49261/49261 [==============================] - 191s 4ms/sample - loss: 0.6899 - mean_absolute_error: 0.1439 - acc: 0.8005 - val_loss: 0.6751 - val_mean_absolute_error: 0.1400 - val_acc: 0.8143\n",
      "Epoch 18/30\n",
      "49261/49261 [==============================] - 190s 4ms/sample - loss: 0.6880 - mean_absolute_error: 0.1431 - acc: 0.8019 - val_loss: 0.6764 - val_mean_absolute_error: 0.1408 - val_acc: 0.8131\n",
      "Epoch 19/30\n",
      "49261/49261 [==============================] - 190s 4ms/sample - loss: 0.6882 - mean_absolute_error: 0.1432 - acc: 0.8028 - val_loss: 0.6753 - val_mean_absolute_error: 0.1408 - val_acc: 0.8202\n",
      "Epoch 20/30\n",
      "49261/49261 [==============================] - 193s 4ms/sample - loss: 0.6950 - mean_absolute_error: 0.1461 - acc: 0.7905 - val_loss: 0.7094 - val_mean_absolute_error: 0.1551 - val_acc: 0.7498\n",
      "Epoch 21/30\n",
      "49261/49261 [==============================] - 191s 4ms/sample - loss: 0.6963 - mean_absolute_error: 0.1472 - acc: 0.7904 - val_loss: 0.6793 - val_mean_absolute_error: 0.1406 - val_acc: 0.8153\n",
      "Epoch 22/30\n",
      "49261/49261 [==============================] - 192s 4ms/sample - loss: 0.6871 - mean_absolute_error: 0.1416 - acc: 0.8027 - val_loss: 0.6755 - val_mean_absolute_error: 0.1411 - val_acc: 0.8158\n",
      "Epoch 23/30\n",
      "49261/49261 [==============================] - 190s 4ms/sample - loss: 0.6867 - mean_absolute_error: 0.1422 - acc: 0.8055 - val_loss: 0.6791 - val_mean_absolute_error: 0.1388 - val_acc: 0.8124\n",
      "Epoch 24/30\n",
      "49261/49261 [==============================] - 192s 4ms/sample - loss: 0.6857 - mean_absolute_error: 0.1411 - acc: 0.8043 - val_loss: 0.6749 - val_mean_absolute_error: 0.1407 - val_acc: 0.8191\n",
      "Epoch 25/30\n",
      "49261/49261 [==============================] - 194s 4ms/sample - loss: 0.6837 - mean_absolute_error: 0.1407 - acc: 0.8074 - val_loss: 0.6702 - val_mean_absolute_error: 0.1365 - val_acc: 0.8206\n",
      "Epoch 26/30\n",
      "49261/49261 [==============================] - 194s 4ms/sample - loss: 0.6824 - mean_absolute_error: 0.1405 - acc: 0.8097 - val_loss: 0.6694 - val_mean_absolute_error: 0.1361 - val_acc: 0.8181\n",
      "Epoch 27/30\n",
      "49261/49261 [==============================] - 199s 4ms/sample - loss: 0.6871 - mean_absolute_error: 0.1430 - acc: 0.8030 - val_loss: 0.6711 - val_mean_absolute_error: 0.1393 - val_acc: 0.8215\n",
      "Epoch 28/30\n",
      "49261/49261 [==============================] - 200s 4ms/sample - loss: 0.6866 - mean_absolute_error: 0.1423 - acc: 0.8052 - val_loss: 0.6688 - val_mean_absolute_error: 0.1370 - val_acc: 0.8224\n",
      "Epoch 29/30\n",
      "49261/49261 [==============================] - 202s 4ms/sample - loss: 0.6847 - mean_absolute_error: 0.1412 - acc: 0.8062 - val_loss: 0.6707 - val_mean_absolute_error: 0.1376 - val_acc: 0.8197\n",
      "Epoch 30/30\n",
      "49261/49261 [==============================] - 198s 4ms/sample - loss: 0.6850 - mean_absolute_error: 0.1413 - acc: 0.8057 - val_loss: 0.6716 - val_mean_absolute_error: 0.1390 - val_acc: 0.8232\n"
     ]
    }
   ],
   "source": [
    "#batch_size = 128\n",
    "#batch_size = 49262\n",
    "epochs=30\n",
    "history = model.fit(X_train, y_train, epochs=epochs, validation_data=(X_val, y_val))"
   ]
  },
  {
   "cell_type": "code",
   "execution_count": 17,
   "metadata": {},
   "outputs": [
    {
     "data": {
      "image/png": "[encoded data removed]",
      "text/plain": [
       "<Figure size 576x360 with 1 Axes>"
      ]
     },
     "metadata": {
      "needs_background": "light"
     },
     "output_type": "display_data"
    }
   ],
   "source": [
    "import pandas as pd\n",
    "import matplotlib.pyplot as plt\n",
    "%matplotlib inline\n",
    "\n",
    "pd.DataFrame(history.history).plot(figsize=(8, 5))\n",
    "plt.grid(True)\n",
    "plt.title('Model performance throughout training')\n",
    "plt.ylim(0,1)\n",
    "plt.ylabel('Loss')\n",
    "plt.xlabel('epoch')\n",
    "plt.show()\n"
   ]
  },
  {
   "cell_type": "markdown",
   "metadata": {},
   "source": [
    "## We are trying Softmax"
   ]
  },
  {
   "cell_type": "code",
   "execution_count": 13,
   "metadata": {},
   "outputs": [
    {
     "name": "stdout",
     "output_type": "stream",
     "text": [
      "WARNING:tensorflow:From /home/malaika/anaconda3/envs/computervision/lib/python3.7/site-packages/tensorflow/python/ops/resource_variable_ops.py:435: colocate_with (from tensorflow.python.framework.ops) is deprecated and will be removed in a future version.\n",
      "Instructions for updating:\n",
      "Colocations handled automatically by placer.\n",
      "WARNING:tensorflow:From /home/malaika/anaconda3/envs/computervision/lib/python3.7/site-packages/tensorflow/python/keras/layers/core.py:143: calling dropout (from tensorflow.python.ops.nn_ops) with keep_prob is deprecated and will be removed in a future version.\n",
      "Instructions for updating:\n",
      "Please use `rate` instead of `keep_prob`. Rate should be set to `rate = 1 - keep_prob`.\n",
      "_________________________________________________________________\n",
      "Layer (type)                 Output Shape              Param #   \n",
      "=================================================================\n",
      "conv2d (Conv2D)              (None, 62, 62, 8)         224       \n",
      "_________________________________________________________________\n",
      "conv2d_1 (Conv2D)            (None, 60, 60, 16)        1168      \n",
      "_________________________________________________________________\n",
      "activation (Activation)      (None, 60, 60, 16)        0         \n",
      "_________________________________________________________________\n",
      "max_pooling2d (MaxPooling2D) (None, 30, 30, 16)        0         \n",
      "_________________________________________________________________\n",
      "conv2d_2 (Conv2D)            (None, 28, 28, 32)        4640      \n",
      "_________________________________________________________________\n",
      "conv2d_3 (Conv2D)            (None, 26, 26, 16)        4624      \n",
      "_________________________________________________________________\n",
      "activation_1 (Activation)    (None, 26, 26, 16)        0         \n",
      "_________________________________________________________________\n",
      "max_pooling2d_1 (MaxPooling2 (None, 13, 13, 16)        0         \n",
      "_________________________________________________________________\n",
      "conv2d_4 (Conv2D)            (None, 11, 11, 8)         1160      \n",
      "_________________________________________________________________\n",
      "conv2d_5 (Conv2D)            (None, 9, 9, 8)           584       \n",
      "_________________________________________________________________\n",
      "activation_2 (Activation)    (None, 9, 9, 8)           0         \n",
      "_________________________________________________________________\n",
      "global_max_pooling2d (Global (None, 8)                 0         \n",
      "_________________________________________________________________\n",
      "dropout (Dropout)            (None, 8)                 0         \n",
      "_________________________________________________________________\n",
      "dense (Dense)                (None, 8)                 72        \n",
      "_________________________________________________________________\n",
      "activation_3 (Activation)    (None, 8)                 0         \n",
      "_________________________________________________________________\n",
      "dropout_1 (Dropout)          (None, 8)                 0         \n",
      "_________________________________________________________________\n",
      "dense_1 (Dense)              (None, 8)                 72        \n",
      "_________________________________________________________________\n",
      "activation_4 (Activation)    (None, 8)                 0         \n",
      "_________________________________________________________________\n",
      "dropout_2 (Dropout)          (None, 8)                 0         \n",
      "_________________________________________________________________\n",
      "dense_2 (Dense)              (None, 8)                 72        \n",
      "_________________________________________________________________\n",
      "activation_5 (Activation)    (None, 8)                 0         \n",
      "_________________________________________________________________\n",
      "dropout_3 (Dropout)          (None, 8)                 0         \n",
      "_________________________________________________________________\n",
      "dense_3 (Dense)              (None, 3)                 27        \n",
      "_________________________________________________________________\n",
      "activation_6 (Activation)    (None, 3)                 0         \n",
      "=================================================================\n",
      "Total params: 12,643\n",
      "Trainable params: 12,643\n",
      "Non-trainable params: 0\n",
      "_________________________________________________________________\n"
     ]
    }
   ],
   "source": [
    "from tensorflow.keras.models import Sequential\n",
    "from tensorflow.keras.layers import Conv2D, MaxPooling2D\n",
    "from tensorflow.keras.layers import Activation, Dropout, Flatten, Dense, BatchNormalization, GlobalMaxPooling2D\n",
    "from tensorflow.keras import backend as K\n",
    "\n",
    "#def root_mean_squared_error(y_true, y_pred):\n",
    "#        return K.sqrt(K.mean(K.square(y_pred - y_true))) \n",
    "\n",
    "IMG_SHAPE = (64,64)\n",
    "\n",
    "model = Sequential()\n",
    "\n",
    "model.add(Conv2D(8, (3, 3), input_shape=(IMG_SHAPE[0], IMG_SHAPE[1], 3)))\n",
    "model.add(Conv2D(16, (3, 3)))\n",
    "#model.add(BatchNormalization())\n",
    "model.add(Activation('relu'))\n",
    "model.add(MaxPooling2D(pool_size=(2, 2)))\n",
    "\n",
    "model.add(Conv2D(32, (3, 3)))\n",
    "model.add(Conv2D(16, (3, 3)))\n",
    "#model.add(BatchNormalization())\n",
    "model.add(Activation('relu'))\n",
    "model.add(MaxPooling2D(pool_size=(2, 2)))\n",
    "\n",
    "model.add(Conv2D(8, (3, 3)))\n",
    "model.add(Conv2D(8, (3, 3)))\n",
    "#model.add(BatchNormalization())\n",
    "model.add(Activation('relu'))\n",
    "model.add(GlobalMaxPooling2D())\n",
    "\n",
    "\n",
    "model.add(Dropout(0.25))\n",
    "model.add(Dense(8))\n",
    "model.add(Activation('relu'))\n",
    "\n",
    "model.add(Dropout(0.25))\n",
    "model.add(Dense(8))\n",
    "model.add(Activation('relu'))\n",
    "\n",
    "model.add(Dropout(0.25))\n",
    "model.add(Dense(8))\n",
    "model.add(Activation('relu'))\n",
    "\n",
    "model.add(Dropout(0.25))\n",
    "model.add(Dense(3)) # on ne test que les 3 premières classe\n",
    "model.add(Activation('softmax'))\n",
    "\n",
    "model.compile(loss='categorical_crossentropy', optimizer='nadam', metrics=['mae', 'acc'])\n",
    "model.summary()"
   ]
  },
  {
   "cell_type": "code",
   "execution_count": null,
   "metadata": {
    "scrolled": true
   },
   "outputs": [
    {
     "name": "stdout",
     "output_type": "stream",
     "text": [
      "Train on 49261 samples, validate on 12316 samples\n",
      "WARNING:tensorflow:From /home/malaika/anaconda3/envs/computervision/lib/python3.7/site-packages/tensorflow/python/ops/math_ops.py:3066: to_int32 (from tensorflow.python.ops.math_ops) is deprecated and will be removed in a future version.\n",
      "Instructions for updating:\n",
      "Use tf.cast instead.\n",
      "WARNING:tensorflow:From /home/malaika/anaconda3/envs/computervision/lib/python3.7/site-packages/tensorflow/python/ops/math_grad.py:102: div (from tensorflow.python.ops.math_ops) is deprecated and will be removed in a future version.\n",
      "Instructions for updating:\n",
      "Deprecated in favor of operator or tf.math.divide.\n",
      "Epoch 1/30\n",
      "49261/49261 [==============================] - 206s 4ms/sample - loss: 0.7792 - mean_absolute_error: 0.1653 - acc: 0.6532 - val_loss: 0.7160 - val_mean_absolute_error: 0.1362 - val_acc: 0.7769\n",
      "Epoch 2/30\n",
      "49261/49261 [==============================] - 199s 4ms/sample - loss: 0.7333 - mean_absolute_error: 0.1408 - acc: 0.7388 - val_loss: 0.7002 - val_mean_absolute_error: 0.1249 - val_acc: 0.7893\n",
      "Epoch 3/30\n",
      "49261/49261 [==============================] - 198s 4ms/sample - loss: 0.7196 - mean_absolute_error: 0.1328 - acc: 0.7639 - val_loss: 0.6975 - val_mean_absolute_error: 0.1242 - val_acc: 0.8001\n",
      "Epoch 4/30\n",
      "49261/49261 [==============================] - 205s 4ms/sample - loss: 0.7138 - mean_absolute_error: 0.1293 - acc: 0.7727 - val_loss: 0.6990 - val_mean_absolute_error: 0.1230 - val_acc: 0.7722\n",
      "Epoch 5/30\n",
      "49261/49261 [==============================] - 207s 4ms/sample - loss: 0.7125 - mean_absolute_error: 0.1287 - acc: 0.7752 - val_loss: 0.6896 - val_mean_absolute_error: 0.1199 - val_acc: 0.8020\n",
      "Epoch 6/30\n",
      "49261/49261 [==============================] - 198s 4ms/sample - loss: 0.7099 - mean_absolute_error: 0.1270 - acc: 0.7779 - val_loss: 0.7534 - val_mean_absolute_error: 0.1543 - val_acc: 0.6416\n",
      "Epoch 7/30\n",
      "49261/49261 [==============================] - 201s 4ms/sample - loss: 0.7111 - mean_absolute_error: 0.1275 - acc: 0.7740 - val_loss: 0.6926 - val_mean_absolute_error: 0.1208 - val_acc: 0.7977\n",
      "Epoch 8/30\n",
      "49261/49261 [==============================] - 202s 4ms/sample - loss: 0.7074 - mean_absolute_error: 0.1252 - acc: 0.7772 - val_loss: 0.6878 - val_mean_absolute_error: 0.1190 - val_acc: 0.8008\n",
      "Epoch 9/30\n",
      "49261/49261 [==============================] - 199s 4ms/sample - loss: 0.7066 - mean_absolute_error: 0.1248 - acc: 0.7815 - val_loss: 0.6906 - val_mean_absolute_error: 0.1182 - val_acc: 0.8103\n",
      "Epoch 10/30\n",
      "49261/49261 [==============================] - 201s 4ms/sample - loss: 0.7030 - mean_absolute_error: 0.1226 - acc: 0.7893 - val_loss: 0.6763 - val_mean_absolute_error: 0.1090 - val_acc: 0.8228\n",
      "Epoch 11/30\n",
      "49261/49261 [==============================] - 204s 4ms/sample - loss: 0.7846 - mean_absolute_error: 0.1743 - acc: 0.5744 - val_loss: 0.7854 - val_mean_absolute_error: 0.1774 - val_acc: 0.5667\n",
      "Epoch 12/30\n",
      "49261/49261 [==============================] - 202s 4ms/sample - loss: 0.7877 - mean_absolute_error: 0.1764 - acc: 0.5653 - val_loss: 0.7854 - val_mean_absolute_error: 0.1776 - val_acc: 0.5667\n",
      "Epoch 13/30\n",
      "49261/49261 [==============================] - 205s 4ms/sample - loss: 0.7877 - mean_absolute_error: 0.1765 - acc: 0.5653 - val_loss: 0.7854 - val_mean_absolute_error: 0.1775 - val_acc: 0.5667\n",
      "Epoch 14/30\n",
      "49261/49261 [==============================] - 6749s 137ms/sample - loss: 0.7877 - mean_absolute_error: 0.1765 - acc: 0.5653 - val_loss: 0.7853 - val_mean_absolute_error: 0.1773 - val_acc: 0.5667\n",
      "Epoch 15/30\n",
      "49261/49261 [==============================] - 171s 3ms/sample - loss: 0.7877 - mean_absolute_error: 0.1765 - acc: 0.5653 - val_loss: 0.7853 - val_mean_absolute_error: 0.1773 - val_acc: 0.5667\n",
      "Epoch 16/30\n",
      "49261/49261 [==============================] - 177s 4ms/sample - loss: 0.7877 - mean_absolute_error: 0.1765 - acc: 0.5653 - val_loss: 0.7854 - val_mean_absolute_error: 0.1775 - val_acc: 0.5667\n",
      "Epoch 17/30\n",
      "49261/49261 [==============================] - 182s 4ms/sample - loss: 0.7877 - mean_absolute_error: 0.1765 - acc: 0.5653 - val_loss: 0.7854 - val_mean_absolute_error: 0.1774 - val_acc: 0.5667\n",
      "Epoch 18/30\n",
      "49261/49261 [==============================] - 187s 4ms/sample - loss: 0.7877 - mean_absolute_error: 0.1765 - acc: 0.5653 - val_loss: 0.7854 - val_mean_absolute_error: 0.1774 - val_acc: 0.5667\n",
      "Epoch 19/30\n",
      "49261/49261 [==============================] - 197s 4ms/sample - loss: 0.7877 - mean_absolute_error: 0.1765 - acc: 0.5653 - val_loss: 0.7854 - val_mean_absolute_error: 0.1774 - val_acc: 0.5667\n",
      "Epoch 20/30\n",
      "49261/49261 [==============================] - 195s 4ms/sample - loss: 0.7877 - mean_absolute_error: 0.1764 - acc: 0.5653 - val_loss: 0.7858 - val_mean_absolute_error: 0.1779 - val_acc: 0.5667\n",
      "Epoch 21/30\n",
      "49261/49261 [==============================] - 193s 4ms/sample - loss: 0.7877 - mean_absolute_error: 0.1765 - acc: 0.5653 - val_loss: 0.7854 - val_mean_absolute_error: 0.1774 - val_acc: 0.5667\n",
      "Epoch 22/30\n",
      "49261/49261 [==============================] - 194s 4ms/sample - loss: 0.7877 - mean_absolute_error: 0.1765 - acc: 0.5653 - val_loss: 0.7854 - val_mean_absolute_error: 0.1774 - val_acc: 0.5667\n",
      "Epoch 23/30\n",
      "49261/49261 [==============================] - 217s 4ms/sample - loss: 0.7877 - mean_absolute_error: 0.1764 - acc: 0.5653 - val_loss: 0.7856 - val_mean_absolute_error: 0.1777 - val_acc: 0.5667\n",
      "Epoch 24/30\n",
      "49261/49261 [==============================] - 215s 4ms/sample - loss: 0.7877 - mean_absolute_error: 0.1765 - acc: 0.5653 - val_loss: 0.7855 - val_mean_absolute_error: 0.1776 - val_acc: 0.5667\n",
      "Epoch 25/30\n",
      "49261/49261 [==============================] - 214s 4ms/sample - loss: 0.7877 - mean_absolute_error: 0.1764 - acc: 0.5653 - val_loss: 0.7854 - val_mean_absolute_error: 0.1775 - val_acc: 0.5667\n",
      "Epoch 26/30\n",
      "49261/49261 [==============================] - 233s 5ms/sample - loss: 0.7877 - mean_absolute_error: 0.1765 - acc: 0.5653 - val_loss: 0.7853 - val_mean_absolute_error: 0.1773 - val_acc: 0.5667\n",
      "Epoch 27/30\n",
      "49261/49261 [==============================] - 235s 5ms/sample - loss: 0.7877 - mean_absolute_error: 0.1764 - acc: 0.5653 - val_loss: 0.7858 - val_mean_absolute_error: 0.1778 - val_acc: 0.5667\n",
      "Epoch 28/30\n",
      "49261/49261 [==============================] - 241s 5ms/sample - loss: 0.7877 - mean_absolute_error: 0.1765 - acc: 0.5653 - val_loss: 0.7854 - val_mean_absolute_error: 0.1775 - val_acc: 0.5667\n",
      "Epoch 29/30\n",
      " 9664/49261 [====>.........................] - ETA: 2:34 - loss: 0.7871 - mean_absolute_error: 0.1770 - acc: 0.5663"
     ]
    }
   ],
   "source": [
    "#batch_size = 128\n",
    "#batch_size = 49262\n",
    "epochs=30\n",
    "history = model.fit(X_train, y_train, epochs=epochs, validation_data=(X_val, y_val))"
   ]
  },
  {
   "cell_type": "code",
   "execution_count": 17,
   "metadata": {},
   "outputs": [
    {
     "data": {
      "image/png": "[encoded data removed]",
      "text/plain": [
       "<Figure size 576x360 with 1 Axes>"
      ]
     },
     "metadata": {
      "needs_background": "light"
     },
     "output_type": "display_data"
    }
   ],
   "source": [
    "import pandas as pd\n",
    "import matplotlib.pyplot as plt\n",
    "%matplotlib inline\n",
    "\n",
    "pd.DataFrame(history.history).plot(figsize=(8, 5))\n",
    "plt.grid(True)\n",
    "plt.title('Model performance throughout training')\n",
    "plt.ylim(0,1)\n",
    "plt.ylabel('Loss')\n",
    "plt.xlabel('epoch')\n",
    "plt.show()\n"
   ]
  },
  {
   "cell_type": "code",
   "execution_count": null,
   "metadata": {},
   "outputs": [],
   "source": [
    "from tensorflow.keras.models import Sequential\n",
    "from tensorflow.keras.layers import Conv2D, MaxPooling2D\n",
    "from tensorflow.keras.layers import Activation, Dropout, Flatten, Dense, BatchNormalization, GlobalMaxPooling2D\n",
    "from tensorflow.keras import backend as K\n",
    "\n",
    "#def root_mean_squared_error(y_true, y_pred):\n",
    "#        return K.sqrt(K.mean(K.square(y_pred - y_true))) \n",
    "\n",
    "IMG_SHAPE = (64,64)\n",
    "\n",
    "model = Sequential()\n",
    "\n",
    "model.add(Conv2D(32, (3, 3), input_shape=(IMG_SHAPE[0], IMG_SHAPE[1], 3)))\n",
    "model.add(Conv2D(16, (3, 3)))\n",
    "#model.add(BatchNormalization())\n",
    "model.add(Activation('relu'))\n",
    "model.add(MaxPooling2D(pool_size=(2, 2)))\n",
    "\n",
    "\n",
    "\n",
    "model.add(Conv2D(8, (3, 3)))\n",
    "model.add(Conv2D(8, (3, 3)))\n",
    "#model.add(BatchNormalization())\n",
    "model.add(Activation('relu'))\n",
    "model.add(GlobalMaxPooling2D())\n",
    "\n",
    "\n",
    "\n",
    "model.add(Dropout(0.25))\n",
    "\n",
    "#\n",
    "model.add(Dense(16))\n",
    "model.add(Activation('relu'))\n",
    "\n",
    "\n",
    "model.add(Dense(3)) # on ne test que les 3 premières classe\n",
    "model.add(Activation('softmax'))\n",
    "\n",
    "model.compile(loss='categorical_crossentropy', optimizer='nadam', metrics=['mae', 'acc'])\n",
    "model.summary()"
   ]
  },
  {
   "cell_type": "code",
   "execution_count": null,
   "metadata": {
    "scrolled": true
   },
   "outputs": [],
   "source": [
    "#batch_size = 128\n",
    "#batch_size = 49262\n",
    "epochs=20\n",
    "history = model.fit(X_train, y_train, epochs=epochs, validation_data=(X_val, y_val))"
   ]
  },
  {
   "cell_type": "code",
   "execution_count": 11,
   "metadata": {},
   "outputs": [
    {
     "ename": "NameError",
     "evalue": "name 'plt' is not defined",
     "output_type": "error",
     "traceback": [
      "\u001b[0;31m---------------------------------------------------------------------------\u001b[0m",
      "\u001b[0;31mNameError\u001b[0m                                 Traceback (most recent call last)",
      "\u001b[0;32m<ipython-input-11-f441eb9b0d47>\u001b[0m in \u001b[0;36m<module>\u001b[0;34m\u001b[0m\n\u001b[1;32m      1\u001b[0m \u001b[0mpd\u001b[0m\u001b[0;34m.\u001b[0m\u001b[0mDataFrame\u001b[0m\u001b[0;34m(\u001b[0m\u001b[0mhistory\u001b[0m\u001b[0;34m.\u001b[0m\u001b[0mhistory\u001b[0m\u001b[0;34m)\u001b[0m\u001b[0;34m.\u001b[0m\u001b[0mplot\u001b[0m\u001b[0;34m(\u001b[0m\u001b[0mfigsize\u001b[0m\u001b[0;34m=\u001b[0m\u001b[0;34m(\u001b[0m\u001b[0;36m8\u001b[0m\u001b[0;34m,\u001b[0m \u001b[0;36m5\u001b[0m\u001b[0;34m)\u001b[0m\u001b[0;34m)\u001b[0m\u001b[0;34m\u001b[0m\u001b[0m\n\u001b[0;32m----> 2\u001b[0;31m \u001b[0mplt\u001b[0m\u001b[0;34m.\u001b[0m\u001b[0mgrid\u001b[0m\u001b[0;34m(\u001b[0m\u001b[0;32mTrue\u001b[0m\u001b[0;34m)\u001b[0m\u001b[0;34m\u001b[0m\u001b[0m\n\u001b[0m\u001b[1;32m      3\u001b[0m \u001b[0mplt\u001b[0m\u001b[0;34m.\u001b[0m\u001b[0mtitle\u001b[0m\u001b[0;34m(\u001b[0m\u001b[0;34m'Model performance throughout training'\u001b[0m\u001b[0;34m)\u001b[0m\u001b[0;34m\u001b[0m\u001b[0m\n\u001b[1;32m      4\u001b[0m \u001b[0mplt\u001b[0m\u001b[0;34m.\u001b[0m\u001b[0mylim\u001b[0m\u001b[0;34m(\u001b[0m\u001b[0;36m0\u001b[0m\u001b[0;34m,\u001b[0m\u001b[0;36m1\u001b[0m\u001b[0;34m)\u001b[0m\u001b[0;34m\u001b[0m\u001b[0m\n\u001b[1;32m      5\u001b[0m \u001b[0mplt\u001b[0m\u001b[0;34m.\u001b[0m\u001b[0mxlim\u001b[0m\u001b[0;34m(\u001b[0m\u001b[0;36m0\u001b[0m\u001b[0;34m,\u001b[0m\u001b[0;36m30\u001b[0m\u001b[0;34m)\u001b[0m\u001b[0;34m\u001b[0m\u001b[0m\n",
      "\u001b[0;31mNameError\u001b[0m: name 'plt' is not defined"
     ]
    },
    {
     "data": {
      "image/png": "[encoded data removed]",
      "text/plain": [
       "<Figure size 576x360 with 1 Axes>"
      ]
     },
     "metadata": {
      "needs_background": "light"
     },
     "output_type": "display_data"
    }
   ],
   "source": [
    "pd.DataFrame(history.history).plot(figsize=(8, 5))\n",
    "plt.grid(True)\n",
    "plt.title('Model performance throughout training')\n",
    "plt.ylim(0,1)\n",
    "plt.xlim(0,12)\n",
    "plt.ylabel('Loss')\n",
    "plt.xlabel('epoch')\n",
    "plt.show()\n"
   ]
  },
  {
   "cell_type": "code",
   "execution_count": 18,
   "metadata": {},
   "outputs": [
    {
     "data": {
      "text/plain": [
       "array([[0.32538 , 0.646283, 0.028337],\n",
       "       [0.246315, 0.753685, 0.      ],\n",
       "       [0.776   , 0.145   , 0.079   ],\n",
       "       ...,\n",
       "       [0.457719, 0.525546, 0.016735],\n",
       "       [0.343315, 0.637737, 0.018948],\n",
       "       [0.493588, 0.485177, 0.021236]])"
      ]
     },
     "execution_count": 18,
     "metadata": {},
     "output_type": "execute_result"
    }
   ],
   "source": [
    "y_train\n"
   ]
  },
  {
   "cell_type": "markdown",
   "metadata": {},
   "source": [
    "## We are trying Transfer Learning with RESNET"
   ]
  },
  {
   "cell_type": "code",
   "execution_count": 19,
   "metadata": {},
   "outputs": [
    {
     "name": "stdout",
     "output_type": "stream",
     "text": [
      "_________________________________________________________________\n",
      "Layer (type)                 Output Shape              Param #   \n",
      "=================================================================\n",
      "resnet50 (Model)             (None, 2048)              23587712  \n",
      "_________________________________________________________________\n",
      "dense_1 (Dense)              (None, 3)                 6147      \n",
      "=================================================================\n",
      "Total params: 23,593,859\n",
      "Trainable params: 23,540,739\n",
      "Non-trainable params: 53,120\n",
      "_________________________________________________________________\n",
      "Train on 49261 samples, validate on 12316 samples\n",
      "Epoch 1/5\n",
      "49261/49261 [==============================] - 3925s 80ms/sample - loss: 0.7950 - acc: 0.7843 - val_loss: 0.9752 - val_acc: 0.5667\n",
      "Epoch 2/5\n",
      "49261/49261 [==============================] - 3981s 81ms/sample - loss: 0.7044 - acc: 0.8257 - val_loss: 0.8609 - val_acc: 0.5142\n",
      "Epoch 3/5\n",
      "49261/49261 [==============================] - 3951s 80ms/sample - loss: 0.7037 - acc: 0.8345 - val_loss: 0.7241 - val_acc: 0.7216\n",
      "Epoch 4/5\n",
      "49261/49261 [==============================] - 4278s 87ms/sample - loss: 0.6786 - acc: 0.8405 - val_loss: 1.2548 - val_acc: 0.6738\n",
      "Epoch 5/5\n",
      "49261/49261 [==============================] - 5179s 105ms/sample - loss: 0.6816 - acc: 0.8409 - val_loss: 0.6533 - val_acc: 0.8378\n"
     ]
    }
   ],
   "source": [
    "from tensorflow.python.keras.applications import ResNet50\n",
    "from tensorflow.python.keras.models import Sequential\n",
    "from tensorflow.keras.models import Sequential\n",
    "from tensorflow.keras.layers import Dense, Activation\n",
    "\n",
    "NUM_CLASSES = 3\n",
    "RESNET_WEIGHTS_PATH = './resnet50_weights_tf_dim_ordering_tf_kernels_notop.h5' #importing a pretrained model\n",
    "\n",
    "model = Sequential()\n",
    "model.trainable = False\n",
    "model.add(ResNet50(include_top=False, pooling='max', weights=RESNET_WEIGHTS_PATH))\n",
    "model.add(Dense(NUM_CLASSES, activation='softmax'))\n",
    "\n",
    "#my_model_resnet = (ResNet50(include_top=False, pooling='max', weights=RESNET_WEIGHTS_PATH))\n",
    "# Compile Model\n",
    "model.compile(optimizer='sgd', loss='categorical_crossentropy', metrics=['accuracy'])\n",
    "# Model Sum\n",
    "model.summary()\n",
    "# Fit Model\n",
    "history = model.fit(X_train, y_train, validation_data=(X_test,y_test), epochs=5, batch_size=128)\n",
    "\n"
   ]
  },
  {
   "cell_type": "code",
   "execution_count": null,
   "metadata": {},
   "outputs": [],
   "source": []
  }
 ],
 "metadata": {
  "kernelspec": {
   "display_name": "Python 3",
   "language": "python",
   "name": "python3"
  },
  "language_info": {
   "codemirror_mode": {
    "name": "ipython",
    "version": 3
   },
   "file_extension": ".py",
   "mimetype": "text/x-python",
   "name": "python",
   "nbconvert_exporter": "python",
   "pygments_lexer": "ipython3",
   "version": "3.7.0"
  },
  "toc": {
   "base_numbering": 1,
   "nav_menu": {},
   "number_sections": true,
   "sideBar": true,
   "skip_h1_title": false,
   "title_cell": "Table of Contents",
   "title_sidebar": "Contents",
   "toc_cell": false,
   "toc_position": {},
   "toc_section_display": true,
   "toc_window_display": false
  }
 },
 "nbformat": 4,
 "nbformat_minor": 2
}
